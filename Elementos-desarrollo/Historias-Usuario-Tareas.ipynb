{
 "cells": [
  {
   "cell_type": "markdown",
   "metadata": {},
   "source": [
    "# Historias de usuario - Criterios de aceptación - Tareas"
   ]
  },
  {
   "cell_type": "markdown",
   "metadata": {},
   "source": [
    "## Piedra, Papel & Tijera\n",
    "\n",
    "### Historia de usuaria\n",
    "\n",
    "**Como** usuaria,</p>\n",
    "**Quiero** jugar al Piedra, Papel & Tijera</p>\n",
    "**Para** pasar un buen rato\n",
    "\n",
    "### Criterios de aceptación\n",
    "\n",
    "- Debe existir una interfaz que permita a la jugadora ingresar su opción (piedra, papel o tijera)\n",
    "- Debe existir una retroalimentación clara sobre qué elecciones han hecho tanto la jugadora como la máquina\n",
    "- Debe aparecer el resultado de cada ronda \n",
    "- Las reglas del juego deben estar implementadas y funcionar correctamente\n",
    "- Debe existir un sistema de puntos que cuente los puntos obtenidos por la jugadora y por la máquina\n",
    "- Esta puntuación debe mostrarse en cada ronda e incrementar +1 a quien haya sido vencedora\n",
    "- El juego debe finalizar cuando alguien alcance 3 puntos\n",
    "- Al finalizar el juego se debe mostrar quién ha sido ganadora\n",
    "- Se debe comprobar que la información dada por el usuario sea válida\n",
    "- Debe haber algún mensaje de error en caso de que se proporcione información no válida\n",
    "\n",
    "\n",
    "### Tareas\n",
    "\n",
    "- Implementar la captura de la entrada de datos de la usuaria\n",
    "- Desarrollar la función que informe de las elecciones realizadas por la jugadora y por la máquina en cada ronda\n",
    "- Implementar las reglas del juego \n",
    "- Desarrollar la lógica para determinar la ganadora de la ronda y mostrar el resultado (ganar, perder o empatar)\n",
    "- Crear el sistema de conteo de puntos que diferencie aquellos obtenidos por la jugadora y los que gana la máquina\n",
    "- Implementar la lógica para que el juego termine cuando alguien llegue a 3 puntos y mostrar las puntuaciones en cada ronda\n",
    "- Desarrollar la función que muestre quién ha ganado el juego\n",
    "- Implementar la validación para los datos introducidos por la jugadora y añadir mensaje de error en caso de que no sean válidos\n",
    "- Realizar pruebas para comprobar el funcionamiento del juego\n"
   ]
  },
  {
   "cell_type": "markdown",
   "metadata": {},
   "source": [
    "-----------------------------------------------------------------------------------------------------------------------------"
   ]
  },
  {
   "cell_type": "markdown",
   "metadata": {},
   "source": [
    "## Preguntas y Respuestas\n",
    "\n",
    "### Historia de usuaria\n",
    "\n",
    "**Como** usuaria</p>\n",
    "**Quiero** poder jugar a Preguntas y Respuestas</p>\n",
    "**Para** poner a prueba mis conocimientos en Geografía\n",
    "\n",
    "### Criterios de aceptación\n",
    "\n",
    "- Debe existir una base de datos o conjunto de preguntas de geografía de la cual se seleccionarán las preguntas para el juego\n",
    "- Las preguntas deben ser relevantes y del ámbito de la Geografía\n",
    "- Al inicio de cada ronda el juego debe seleccionar la pregunta de forma aleatoria\n",
    "- No deben repetirse las preguntas en una misma sesión de juego\n",
    "- El juego debe permitir respuestas múltiples o respuesta abierta\n",
    "- Debe haber un número limitado de intentos para responder correctamente a una pregunta (3)\n",
    "- Debe haber sólo una respuesta correcta y única por cada pregunta\n",
    "- Debe haber un sistema de puntación que rastree el número de respuestas incorrectas y correctas\n",
    "- El juego debe finalizar cuando se haya respuesto 3 veces de forma incorrecta o 5 veces de forma correcta\n",
    "- Debe mostrarse información después de cada pregunta indicando si se ha acertado o no y en caso negativo indicar cuál era la respuesta correcta\n",
    "\n",
    "### Tareas\n",
    "\n",
    "- Establecer una base de datos o conjunto de preguntas de geografía junto con sus respuestas correctas\n",
    "- Desarrollar la función que seleccione de forma aleatoria una de las preguntas al inicio de cada ronda\n",
    "- Integrar la función que verifique que no se repiten las preguntas en la misma sesión de juego (añadir un .pop que vaya eliminando la pregunta que se ha hecho al final de la ronda)\n",
    "- Implementar la captura de la entrada de datos de la usuaria (jugadora) para las respuestas: print de la pregunta y luego pedir el input o ¿introducir pregunta dentro del input?\n",
    "- Desarrollar un sistema de validacion de los datos introducidos por la jugadora para que se adecuen a los criterios permitidos. En caso de error (introducción de datos no válidos), mostrar los mensajes pertinentes (quitar acentos de los inputs, espacios y aplicar .lower())\n",
    "- Establecer un número limitado de entradas (respuestas) para cada pregunta \n",
    "- Contabilizar y gestionar los intentos de respuesta de la jugadora y limitarlos a 3\n",
    "- Desarrollar un sistema de puntuación que rastree el número de respuestas correctas e incorrectas y mostrar la puntuación después de cada pregunta\n",
    "- Desarrollar una función que informe a la jugadora si ha acertado o no, indicando cuál era la respuesta correcta en caso de fallo\n",
    "- Implementar la lógica para que el juego termine cuando se hayan obtenido 3 fallos o 5 aciertos totales\n",
    "- Realizar pruebas para comprobar el funcionamiento del juego"
   ]
  },
  {
   "cell_type": "markdown",
   "metadata": {},
   "source": [
    "-----------------------------------------------------------------------------------------------------------------------------"
   ]
  },
  {
   "cell_type": "markdown",
   "metadata": {},
   "source": [
    "## Ahorcado\n",
    "\n",
    "### Historia de usuaria\n",
    "\n",
    "**Como** usuaria</p>\n",
    "**Quiero** poder jugar al Ahorcado</p>\n",
    "**Para** pasar un buen rato\n",
    "\n",
    "### Criterios de aceptación\n",
    "\n",
    "- La jugadora debe poder ingresar las letras de la palabra a adivinar en cada ronda\n",
    "- Debe mostrarse la evolución del muñeco según se realicen intentos incorrectos\n",
    "- La máquina debe seleccionar una palabra para que la jugadora la adivine de forma aleatoria\n",
    "- Debe mostrarse en pantalla la cantidad de letras que tiene la palabra, representadas con un \"_\"\n",
    "- Deben cambiarse los \"_\" por la letra adivinada en caso de acierto\n",
    "- La letra adivinada que se muestre deberá ir en la posición correcta dentro de la palabra\n",
    "- Debe haber un límite de intentos para adivinar la palabra antes de que se complete el ahorcado. ¿5?\n",
    "- El juego debe finalizar cuando la jugadora acierte la palabra o el muñeco se muestre completo\n",
    "- Debe informarse a la jugadora después de cada intento acerca de si ha acertado o no\n",
    "- Deben mostrarse en pantalla las letras erróneas ya utilizadas por la jugadora \n",
    "- Al finalizar el juego se debe anunciar si la jugadora ha ganado o perdido\n",
    "\n",
    "### Tareas\n",
    "\n",
    "- Implementar la captura de la entrada de datos de la usuaria (jugadora) para las letras\n",
    "- Crear la lógica de validación de los datos introducidos por la usuaria (usar import string - string.ascii_lowercase)\n",
    "- Implementar la representación gráfica de \"el ahorcado\" para que vaya evolucionando según se obtengan respuestas incorrectas\n",
    "- Desarrollar una base de datos con un número determinado de palabras de 5 a 10 caracteres\n",
    "- Desarrollar la funcionalidad para que la máquina seleccione una palabra aleatoria de la base de datos\n",
    "- Implementar la función que muestre en pantalla la cantidad de letras de la palabra seleccionada, representadas con \"_\"\n",
    "- Desarrollar el modo por el que cada letra adivinada aparezca en pantalla, ocupando el lugar correspondiente en la palabra y reemplazando el \"_\"\n",
    "- Establecer un límite de intentos para adivinar la palabra (por ejemplo, 5) antes de que se muestre \"el ahorcado\"\n",
    "- Implementar la lógica para que el juego finalice cuando la jugadora acierte la palabra o \"el ahorcado\" se muestre\n",
    "- Crear la funcionalidad para informar a la jugadora después de cada intento acerca de si ha acertado o no\n",
    "- Implementar la función que muestre en pantalla las letras erróneas ya utilizadas por la jugadora\n",
    "- Desarrollar el modo para que la jugadora no pueda volver a insertar una letra ya utilizada, con un mensaje de alerta si lo hace\n",
    "- Crear un mensaje al finalizar el juego que avise a la jugadora acerca de si ha perdido o ha ganado\n",
    "- Realizar pruebas para comprobar el funcionamiento del juego"
   ]
  }
 ],
 "metadata": {
  "kernelspec": {
   "display_name": "base",
   "language": "python",
   "name": "python3"
  },
  "language_info": {
   "codemirror_mode": {
    "name": "ipython",
    "version": 3
   },
   "file_extension": ".py",
   "mimetype": "text/x-python",
   "name": "python",
   "nbconvert_exporter": "python",
   "pygments_lexer": "ipython3",
   "version": "3.9.7"
  }
 },
 "nbformat": 4,
 "nbformat_minor": 2
}
