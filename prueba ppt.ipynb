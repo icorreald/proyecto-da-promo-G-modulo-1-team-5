{
 "cells": [
  {
   "cell_type": "code",
   "execution_count": 2,
   "metadata": {},
   "outputs": [],
   "source": [
    "import random"
   ]
  },
  {
   "cell_type": "code",
   "execution_count": 15,
   "metadata": {},
   "outputs": [
    {
     "name": "stdout",
     "output_type": "stream",
     "text": [
      "piedra papel\n"
     ]
    },
    {
     "data": {
      "text/plain": [
       "True"
      ]
     },
     "execution_count": 15,
     "metadata": {},
     "output_type": "execute_result"
    }
   ],
   "source": [
    "reglas = {\"piedra\" : \"papel\" , \"papel\" : \"tijeras\" , \"tijeras\" : \"piedra\"}\n",
    "lista = ['piedra', 'papel', 'tijeras']\n",
    "\n",
    "jugadora = input('Elige opción').lower()\n",
    "maquina = random.choice(lista)\n",
    "print(jugadora, maquina)\n",
    "\n",
    "\n",
    "reglas.get(jugadora) == maquina\n",
    "\n"
   ]
  },
  {
   "cell_type": "code",
   "execution_count": 4,
   "metadata": {},
   "outputs": [
    {
     "name": "stdout",
     "output_type": "stream",
     "text": [
      "Has escogido piedra y la máquina papel. Ohhhh, perdiste. Vais 0 a 1\n",
      "Has escogido papel y la máquina papel. Enhorabuena crack. Vais 1 a 1\n",
      "Has escogido tijeras y la máquina piedra. Ohhhh, perdiste. Vais 1 a 2\n",
      "Has escogido tijera y la máquina piedra. Enhorabuena crack. Vais 2 a 2\n",
      "Has escogido tijera y la máquina papel. Enhorabuena crack. Vais 3 a 2\n",
      "--------------------------------------------------\n",
      "Enhorabuena, J1, has ganado con 3 puntos!\n"
     ]
    }
   ],
   "source": [
    "reglas = {\"piedra\" : \"papel\" , \"papel\" : [\"tijeras\", \"tijera\"] , \"tijeras\" : \"piedra\"}\n",
    "lista = ['piedra', 'papel', 'tijeras']\n",
    "puntos_jugadora = 0\n",
    "puntos_maquina = 0\n",
    "\n",
    "# condición del juego\n",
    "while puntos_jugadora < 3 and puntos_maquina < 3:\n",
    "\n",
    "    # elección de cada jugador\n",
    "    jugadora = input('Elige opción').lower().strip()\n",
    "    maquina = random.choice(lista)\n",
    "\n",
    "    # salvaguarda por si el jugador elige opción no válida\n",
    "\n",
    "    if jugadora not in reglas:\n",
    "        print('ERROR: elección no válida')\n",
    "\n",
    "    # transcurso del juego\n",
    "    else:\n",
    "        if jugadora == maquina:\n",
    "            print(f\"Has escogido {jugadora} y la máquina {maquina}. Empate. Vais {puntos_jugadora} a {puntos_maquina}\")\n",
    "        # ----- empates\n",
    "            \n",
    "        else:\n",
    "            if reglas.get(jugadora) == maquina:\n",
    "                puntos_maquina += 1 \n",
    "                print(f'Has escogido {jugadora} y la máquina {maquina}. Ohhhh, perdiste. Vais {puntos_jugadora} a {puntos_maquina}')\n",
    "            # ----- gana máquina\n",
    "            else:\n",
    "                puntos_jugadora += 1  \n",
    "                print(f'Has escogido {jugadora} y la máquina {maquina}. Enhorabuena crack. Vais {puntos_jugadora} a {puntos_maquina}')\n",
    "            # ----- gana jugador\n",
    "                \n",
    "    print('--------------------------------------------------')\n",
    "\n",
    "# resolución del juego\n",
    "if puntos_jugadora > puntos_maquina:\n",
    "    print(f'Enhorabuena, jugadora, has ganado con {puntos_jugadora} puntos!')\n",
    "    # ----- victoria jugador\n",
    "\n",
    "else:\n",
    "    print(f'Lo lamento, la máquina ha ganado con {puntos_maquina} puntos :(') \n",
    "    # ----- victoria máquina"
   ]
  },
  {
   "cell_type": "code",
   "execution_count": 2,
   "metadata": {},
   "outputs": [],
   "source": [
    "import random"
   ]
  },
  {
   "cell_type": "code",
   "execution_count": 3,
   "metadata": {},
   "outputs": [
    {
     "name": "stdout",
     "output_type": "stream",
     "text": [
      "Has escogido piedra y la máquina piedra. Empate. Vais 0 a 0\n",
      "--------------------------------------------------\n",
      "ERROR: elección no válida\n",
      "--------------------------------------------------\n",
      "ERROR: elección no válida\n",
      "--------------------------------------------------\n"
     ]
    },
    {
     "ename": "KeyboardInterrupt",
     "evalue": "Interrupted by user",
     "output_type": "error",
     "traceback": [
      "\u001b[0;31m---------------------------------------------------------------------------\u001b[0m",
      "\u001b[0;31mKeyboardInterrupt\u001b[0m                         Traceback (most recent call last)",
      "\u001b[0;32m/tmp/ipykernel_24083/470720479.py\u001b[0m in \u001b[0;36m<module>\u001b[0;34m\u001b[0m\n\u001b[1;32m      7\u001b[0m \u001b[0;34m\u001b[0m\u001b[0m\n\u001b[1;32m      8\u001b[0m \u001b[0;32mwhile\u001b[0m \u001b[0mpuntos_jugadora\u001b[0m \u001b[0;34m<\u001b[0m \u001b[0;36m3\u001b[0m \u001b[0;32mand\u001b[0m \u001b[0mpuntos_maquina\u001b[0m \u001b[0;34m<\u001b[0m \u001b[0;36m3\u001b[0m\u001b[0;34m:\u001b[0m\u001b[0;34m\u001b[0m\u001b[0;34m\u001b[0m\u001b[0m\n\u001b[0;32m----> 9\u001b[0;31m     \u001b[0mjugadora\u001b[0m \u001b[0;34m=\u001b[0m \u001b[0minput\u001b[0m\u001b[0;34m(\u001b[0m\u001b[0;34m'Elige opción'\u001b[0m\u001b[0;34m)\u001b[0m\u001b[0;34m.\u001b[0m\u001b[0mlower\u001b[0m\u001b[0;34m(\u001b[0m\u001b[0;34m)\u001b[0m\u001b[0;34m.\u001b[0m\u001b[0mstrip\u001b[0m\u001b[0;34m(\u001b[0m\u001b[0;34m)\u001b[0m\u001b[0;34m\u001b[0m\u001b[0;34m\u001b[0m\u001b[0m\n\u001b[0m\u001b[1;32m     10\u001b[0m     \u001b[0mmaquina\u001b[0m \u001b[0;34m=\u001b[0m \u001b[0mrandom\u001b[0m\u001b[0;34m.\u001b[0m\u001b[0mchoice\u001b[0m\u001b[0;34m(\u001b[0m\u001b[0mlista\u001b[0m\u001b[0;34m)\u001b[0m\u001b[0;34m\u001b[0m\u001b[0;34m\u001b[0m\u001b[0m\n\u001b[1;32m     11\u001b[0m \u001b[0;34m\u001b[0m\u001b[0m\n",
      "\u001b[0;32m~/anaconda3/lib/python3.9/site-packages/ipykernel/kernelbase.py\u001b[0m in \u001b[0;36mraw_input\u001b[0;34m(self, prompt)\u001b[0m\n\u001b[1;32m   1004\u001b[0m                 \u001b[0;34m\"raw_input was called, but this frontend does not support input requests.\"\u001b[0m\u001b[0;34m\u001b[0m\u001b[0;34m\u001b[0m\u001b[0m\n\u001b[1;32m   1005\u001b[0m             )\n\u001b[0;32m-> 1006\u001b[0;31m         return self._input_request(\n\u001b[0m\u001b[1;32m   1007\u001b[0m             \u001b[0mstr\u001b[0m\u001b[0;34m(\u001b[0m\u001b[0mprompt\u001b[0m\u001b[0;34m)\u001b[0m\u001b[0;34m,\u001b[0m\u001b[0;34m\u001b[0m\u001b[0;34m\u001b[0m\u001b[0m\n\u001b[1;32m   1008\u001b[0m             \u001b[0mself\u001b[0m\u001b[0;34m.\u001b[0m\u001b[0m_parent_ident\u001b[0m\u001b[0;34m[\u001b[0m\u001b[0;34m\"shell\"\u001b[0m\u001b[0;34m]\u001b[0m\u001b[0;34m,\u001b[0m\u001b[0;34m\u001b[0m\u001b[0;34m\u001b[0m\u001b[0m\n",
      "\u001b[0;32m~/anaconda3/lib/python3.9/site-packages/ipykernel/kernelbase.py\u001b[0m in \u001b[0;36m_input_request\u001b[0;34m(self, prompt, ident, parent, password)\u001b[0m\n\u001b[1;32m   1049\u001b[0m             \u001b[0;32mexcept\u001b[0m \u001b[0mKeyboardInterrupt\u001b[0m\u001b[0;34m:\u001b[0m\u001b[0;34m\u001b[0m\u001b[0;34m\u001b[0m\u001b[0m\n\u001b[1;32m   1050\u001b[0m                 \u001b[0;31m# re-raise KeyboardInterrupt, to truncate traceback\u001b[0m\u001b[0;34m\u001b[0m\u001b[0;34m\u001b[0m\u001b[0m\n\u001b[0;32m-> 1051\u001b[0;31m                 \u001b[0;32mraise\u001b[0m \u001b[0mKeyboardInterrupt\u001b[0m\u001b[0;34m(\u001b[0m\u001b[0;34m\"Interrupted by user\"\u001b[0m\u001b[0;34m)\u001b[0m \u001b[0;32mfrom\u001b[0m \u001b[0;32mNone\u001b[0m\u001b[0;34m\u001b[0m\u001b[0;34m\u001b[0m\u001b[0m\n\u001b[0m\u001b[1;32m   1052\u001b[0m             \u001b[0;32mexcept\u001b[0m \u001b[0mException\u001b[0m\u001b[0;34m:\u001b[0m\u001b[0;34m\u001b[0m\u001b[0;34m\u001b[0m\u001b[0m\n\u001b[1;32m   1053\u001b[0m                 \u001b[0mself\u001b[0m\u001b[0;34m.\u001b[0m\u001b[0mlog\u001b[0m\u001b[0;34m.\u001b[0m\u001b[0mwarning\u001b[0m\u001b[0;34m(\u001b[0m\u001b[0;34m\"Invalid Message:\"\u001b[0m\u001b[0;34m,\u001b[0m \u001b[0mexc_info\u001b[0m\u001b[0;34m=\u001b[0m\u001b[0;32mTrue\u001b[0m\u001b[0;34m)\u001b[0m\u001b[0;34m\u001b[0m\u001b[0;34m\u001b[0m\u001b[0m\n",
      "\u001b[0;31mKeyboardInterrupt\u001b[0m: Interrupted by user"
     ]
    }
   ],
   "source": [
    "# celda marina\n",
    "\n",
    "reglas = {\"piedra\" : \"papel\" , \"papel\" : \"tijeras\" , \"tijeras\" : \"piedra\"}\n",
    "lista = ['piedra', 'papel', 'tijeras']\n",
    "puntos_jugadora = 0\n",
    "puntos_maquina = 0\n",
    "\n",
    "while puntos_jugadora < 3 and puntos_maquina < 3:\n",
    "    jugadora = input('Elige opción').lower().strip()\n",
    "    maquina = random.choice(lista)\n",
    "\n",
    "    if jugadora not in reglas:\n",
    "        print('ERROR: elección no válida')\n",
    "\n",
    "    else:\n",
    "        if jugadora == maquina:\n",
    "            print(f\"Has escogido {jugadora} y la máquina {maquina}. Empate. Vais {puntos_jugadora} a {puntos_maquina}\")\n",
    "    \n",
    "        else:\n",
    "            if reglas.get(jugadora) == maquina:\n",
    "                puntos_maquina += 1 \n",
    "                print(f'Has escogido {jugadora} y la máquina {maquina}. Ohhhh, perdiste. Vais {puntos_jugadora} a {puntos_maquina}')\n",
    "\n",
    "            else:\n",
    "                puntos_jugadora += 1  \n",
    "                print(f'Has escogido {jugadora} y la máquina {maquina}. Enhorabuena crack. Vais {puntos_jugadora} a {puntos_maquina}')\n",
    "\n",
    "    print('--------------------------------------------------')\n",
    "\n",
    "if puntos_jugadora > puntos_maquina:\n",
    "    print(f'Enhorabuena, jugadora, has ganado con {puntos_jugadora} puntos!')\n",
    "else:\n",
    "    print(f'Lo lamento, la máquina ha ganado con {puntos_maquina} puntos :(') "
   ]
  },
  {
   "cell_type": "code",
   "execution_count": 2,
   "metadata": {},
   "outputs": [],
   "source": [
    "import random"
   ]
  },
  {
   "cell_type": "code",
   "execution_count": 5,
   "metadata": {},
   "outputs": [
    {
     "name": "stdout",
     "output_type": "stream",
     "text": [
      "[dict_keys(['¿Cuál es la capital de España?'])]\n"
     ]
    }
   ],
   "source": [
    "preguntas = {'¿Cuál es la capital de España?':'Madrid' , \"¿Cuál es la capital de Cataluña\":\"Barcelona\"}\n",
    "lista_p = ['']\n",
    "\n",
    "\n",
    "\n",
    "lista_preguntas = list([preguntas.keys()])\n",
    "\n",
    "print(lista_preguntas)"
   ]
  }
 ],
 "metadata": {
  "kernelspec": {
   "display_name": "base",
   "language": "python",
   "name": "python3"
  },
  "language_info": {
   "codemirror_mode": {
    "name": "ipython",
    "version": 3
   },
   "file_extension": ".py",
   "mimetype": "text/x-python",
   "name": "python",
   "nbconvert_exporter": "python",
   "pygments_lexer": "ipython3",
   "version": "3.9.7"
  }
 },
 "nbformat": 4,
 "nbformat_minor": 2
}
