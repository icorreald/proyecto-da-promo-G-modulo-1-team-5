{
 "cells": [
  {
   "cell_type": "code",
   "execution_count": 15,
   "metadata": {},
   "outputs": [
    {
     "name": "stdout",
     "output_type": "stream",
     "text": [
      "piedra papel\n"
     ]
    },
    {
     "data": {
      "text/plain": [
       "True"
      ]
     },
     "execution_count": 15,
     "metadata": {},
     "output_type": "execute_result"
    }
   ],
   "source": [
    "import random\n",
    "reglas = {\"piedra\" : \"papel\" , \"papel\" : \"tijeras\" , \"tijeras\" : \"piedra\"}\n",
    "lista = ['piedra', 'papel', 'tijeras']\n",
    "\n",
    "j1 = input('Elige opción').lower()\n",
    "j2 = random.choice(lista)\n",
    "print(j1, j2)\n",
    "\n",
    "\n",
    "reglas.get(j1) == j2\n",
    "\n"
   ]
  },
  {
   "cell_type": "code",
   "execution_count": 1,
   "metadata": {},
   "outputs": [
    {
     "name": "stdout",
     "output_type": "stream",
     "text": [
      "Has escogido tijera y la máquina piedra. Enhorabuena crack. Vais 1 a 0\n",
      "Has escogido piedra y la máquina papel. Ohhhh, perdiste. Vais 1 a 1\n",
      "Has escogido papel y la máquina papel. Enhorabuena crack. Vais 2 a 1\n",
      "Has escogido cartón y la máquina papel. Enhorabuena crack. Vais 3 a 1\n",
      "Has escogido  y la máquina papel. Enhorabuena crack. Vais 4 a 1\n"
     ]
    }
   ],
   "source": [
    "import random\n",
    "reglas = {\"piedra\" : \"papel\" , \"papel\" : [\"tijeras\", \"tijera\"] , \"tijeras\" : \"piedra\"}\n",
    "# he metido 'tijera' como value de papel por si el j1 lo escribiera mal\n",
    "lista = ['piedra', 'papel', 'tijeras']\n",
    "puntos_j1 = 0\n",
    "puntos_j2 = 0\n",
    "\n",
    "while  puntos_j1 < 3 or puntos_j2 < 3:\n",
    "    j1 = input('Elige: piedra, papel, tijeras').lower()\n",
    "    j2 = random.choice(lista)\n",
    "    if reglas.get(j1) == j2:\n",
    "        puntos_j2 += 1 \n",
    "        print(f'Has escogido {j1} y la máquina {j2}. Ohhhh, perdiste. Vais {puntos_j1} a {puntos_j2}')\n",
    "\n",
    "    elif reglas.get(j1) != j2:\n",
    "        puntos_j1 += 1 \n",
    "        print(f'Has escogido {j1} y la máquina {j2}. Enhorabuena crack. Vais {puntos_j1} a {puntos_j2}')\n",
    "\n",
    "    else:\n",
    "        print(f\"Has escogido {j1} y la máquina {j2}. Empate. Vais {puntos_j1} a {puntos_j2}\")"
   ]
  },
  {
   "cell_type": "code",
   "execution_count": 2,
   "metadata": {},
   "outputs": [
    {
     "data": {
      "text/plain": [
       "int"
      ]
     },
     "execution_count": 2,
     "metadata": {},
     "output_type": "execute_result"
    }
   ],
   "source": [
    "type(puntos_j1)"
   ]
  }
 ],
 "metadata": {
  "kernelspec": {
   "display_name": "base",
   "language": "python",
   "name": "python3"
  },
  "language_info": {
   "codemirror_mode": {
    "name": "ipython",
    "version": 3
   },
   "file_extension": ".py",
   "mimetype": "text/x-python",
   "name": "python",
   "nbconvert_exporter": "python",
   "pygments_lexer": "ipython3",
   "version": "3.9.7"
  }
 },
 "nbformat": 4,
 "nbformat_minor": 2
}
