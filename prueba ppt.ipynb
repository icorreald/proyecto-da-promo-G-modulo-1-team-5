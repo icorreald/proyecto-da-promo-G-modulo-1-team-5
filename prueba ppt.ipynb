{
 "cells": [
  {
   "cell_type": "code",
   "execution_count": 2,
   "metadata": {},
   "outputs": [],
   "source": [
    "import random"
   ]
  },
  {
   "cell_type": "code",
   "execution_count": 15,
   "metadata": {},
   "outputs": [
    {
     "name": "stdout",
     "output_type": "stream",
     "text": [
      "piedra papel\n"
     ]
    },
    {
     "data": {
      "text/plain": [
       "True"
      ]
     },
     "execution_count": 15,
     "metadata": {},
     "output_type": "execute_result"
    }
   ],
   "source": [
    "reglas = {\"piedra\" : \"papel\" , \"papel\" : \"tijeras\" , \"tijeras\" : \"piedra\"}\n",
    "lista = ['piedra', 'papel', 'tijeras']\n",
    "\n",
    "jugadora = input('Elige opción').lower()\n",
    "maquina = random.choice(lista)\n",
    "print(jugadora, maquina)\n",
    "\n",
    "\n",
    "reglas.get(jugadora) == maquina\n",
    "\n"
   ]
  },
  {
   "cell_type": "code",
   "execution_count": 4,
   "metadata": {},
   "outputs": [
    {
     "name": "stdout",
     "output_type": "stream",
     "text": [
      "Has escogido piedra y la máquina papel. Ohhhh, perdiste. Vais 0 a 1\n",
      "Has escogido papel y la máquina papel. Enhorabuena crack. Vais 1 a 1\n",
      "Has escogido tijeras y la máquina piedra. Ohhhh, perdiste. Vais 1 a 2\n",
      "Has escogido tijera y la máquina piedra. Enhorabuena crack. Vais 2 a 2\n",
      "Has escogido tijera y la máquina papel. Enhorabuena crack. Vais 3 a 2\n",
      "--------------------------------------------------\n",
      "Enhorabuena, J1, has ganado con 3 puntos!\n"
     ]
    }
   ],
   "source": [
    "reglas = {\"piedra\" : \"papel\" , \"papel\" : [\"tijeras\", \"tijera\"] , \"tijeras\" : \"piedra\"}\n",
    "lista = ['piedra', 'papel', 'tijeras']\n",
    "puntos_jugadora = 0\n",
    "puntos_maquina = 0\n",
    "\n",
    "# condición del juego\n",
    "while puntos_jugadora < 3 and puntos_maquina < 3:\n",
    "\n",
    "    # elección de cada jugador\n",
    "    jugadora = input('Elige opción').lower().strip()\n",
    "    maquina = random.choice(lista)\n",
    "\n",
    "    # salvaguarda por si el jugador elige opción no válida\n",
    "\n",
    "    if jugadora not in reglas:\n",
    "        print('ERROR: elección no válida')\n",
    "\n",
    "    # transcurso del juego\n",
    "    else:\n",
    "        if jugadora == maquina:\n",
    "            print(f\"Has escogido {jugadora} y la máquina {maquina}. Empate. Vais {puntos_jugadora} a {puntos_maquina}\")\n",
    "        # ----- empates\n",
    "            \n",
    "        else:\n",
    "            if reglas.get(jugadora) == maquina:\n",
    "                puntos_maquina += 1 \n",
    "                print(f'Has escogido {jugadora} y la máquina {maquina}. Ohhhh, perdiste. Vais {puntos_jugadora} a {puntos_maquina}')\n",
    "            # ----- gana máquina\n",
    "            else:\n",
    "                puntos_jugadora += 1  \n",
    "                print(f'Has escogido {jugadora} y la máquina {maquina}. Enhorabuena crack. Vais {puntos_jugadora} a {puntos_maquina}')\n",
    "            # ----- gana jugador\n",
    "                \n",
    "    print('--------------------------------------------------')\n",
    "\n",
    "# resolución del juego\n",
    "if puntos_jugadora > puntos_maquina:\n",
    "    print(f'Enhorabuena, jugadora, has ganado con {puntos_jugadora} puntos!')\n",
    "    # ----- victoria jugador\n",
    "\n",
    "else:\n",
    "    print(f'Lo lamento, la máquina ha ganado con {puntos_maquina} puntos :(') \n",
    "    # ----- victoria máquina"
   ]
  },
  {
   "cell_type": "code",
   "execution_count": 1,
   "metadata": {},
   "outputs": [],
   "source": [
    "import random"
   ]
  },
  {
   "cell_type": "code",
   "execution_count": 2,
   "metadata": {},
   "outputs": [
    {
     "name": "stdout",
     "output_type": "stream",
     "text": [
      "ERROR: elección no válida\n",
      "--------------------------------------------------\n",
      "ERROR: elección no válida\n",
      "--------------------------------------------------\n",
      "Has escogido tijeras y la máquina tijeras. Empate. Vais 0 a 0\n",
      "--------------------------------------------------\n",
      "ERROR: elección no válida\n",
      "--------------------------------------------------\n",
      "Has escogido papel y la máquina piedra. Enhorabuena crack. Vais 1 a 0\n",
      "--------------------------------------------------\n",
      "Has escogido piedra y la máquina tijeras. Enhorabuena crack. Vais 2 a 0\n",
      "--------------------------------------------------\n",
      "Has escogido piedra y la máquina piedra. Empate. Vais 2 a 0\n",
      "--------------------------------------------------\n"
     ]
    }
   ],
   "source": [
    "# celda marina\n",
    "\n",
    "reglas = {\"piedra\" : \"papel\" , \"papel\" : \"tijeras\" , \"tijeras\" : \"piedra\"}\n",
    "lista = ['piedra', 'papel', 'tijeras']\n",
    "puntos_jugadora = 0\n",
    "puntos_maquina = 0\n",
    "\n",
    "while puntos_jugadora < 3 and puntos_maquina < 3:\n",
    "    jugadora = input('Elige opción').lower().strip()\n",
    "    maquina = random.choice(lista)\n",
    "\n",
    "    if jugadora not in reglas:\n",
    "        print('ERROR: elección no válida')\n",
    "\n",
    "    else:\n",
    "        if jugadora == maquina:\n",
    "            print(f\"Has escogido {jugadora} y la máquina {maquina}. Empate. Vais {puntos_jugadora} a {puntos_maquina}\")\n",
    "    \n",
    "        else:\n",
    "            if reglas.get(jugadora) == maquina:\n",
    "                puntos_maquina += 1 \n",
    "                print(f'Has escogido {jugadora} y la máquina {maquina}. Ohhhh, perdiste. Vais {puntos_jugadora} a {puntos_maquina}')\n",
    "\n",
    "            else:\n",
    "                puntos_jugadora += 1  \n",
    "                print(f'Has escogido {jugadora} y la máquina {maquina}. Enhorabuena crack. Vais {puntos_jugadora} a {puntos_maquina}')\n",
    "\n",
    "    print('--------------------------------------------------')\n",
    "\n",
    "if puntos_jugadora > puntos_maquina:\n",
    "    print(f'Enhorabuena, jugadora, has ganado con {puntos_jugadora} puntos!')\n",
    "else:\n",
    "    print(f'Lo lamento, la máquina ha ganado con {puntos_maquina} puntos :(') "
   ]
  },
  {
   "cell_type": "code",
   "execution_count": 2,
   "metadata": {},
   "outputs": [],
   "source": [
    "import random"
   ]
  },
  {
   "cell_type": "code",
   "execution_count": 5,
   "metadata": {},
   "outputs": [
    {
     "name": "stdout",
     "output_type": "stream",
     "text": [
      "[dict_keys(['¿Cuál es la capital de España?'])]\n"
     ]
    }
   ],
   "source": [
    "preguntas = {'¿Cuál es la capital de España?':'Madrid' , \"¿Cuál es la capital de Cataluña\":\"Barcelona\"}\n",
    "lista_p = ['']\n",
    "\n",
    "\n",
    "\n",
    "lista_preguntas = list([preguntas.keys()])\n",
    "\n",
    "print(lista_preguntas)"
   ]
  }
 ],
 "metadata": {
  "kernelspec": {
   "display_name": "base",
   "language": "python",
   "name": "python3"
  },
  "language_info": {
   "codemirror_mode": {
    "name": "ipython",
    "version": 3
   },
   "file_extension": ".py",
   "mimetype": "text/x-python",
   "name": "python",
   "nbconvert_exporter": "python",
   "pygments_lexer": "ipython3",
   "version": "3.9.7"
  }
 },
 "nbformat": 4,
 "nbformat_minor": 2
}
