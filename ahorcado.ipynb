{
 "cells": [
  {
   "cell_type": "code",
   "execution_count": 1,
   "metadata": {},
   "outputs": [
    {
     "ename": "IndentationError",
     "evalue": "unexpected indent (3911943413.py, line 12)",
     "output_type": "error",
     "traceback": [
      "\u001b[0;36m  File \u001b[0;32m\"/tmp/ipykernel_8645/3911943413.py\"\u001b[0;36m, line \u001b[0;32m12\u001b[0m\n\u001b[0;31m    p_asterisco = ''.join(letra if letra == ch else p_asterisco[i] for i, ch in enumerate(palabra))\u001b[0m\n\u001b[0m    ^\u001b[0m\n\u001b[0;31mIndentationError\u001b[0m\u001b[0;31m:\u001b[0m unexpected indent\n"
     ]
    }
   ],
   "source": [
    "# evaluacion intermedia \n",
    "\n",
    "palabra = 'gata'\n",
    "p_asterisco = '*' * len(palabra)\n",
    "vidas = 10\n",
    "\n",
    "print(palabra)\n",
    "while vidas > 0 and palabra != p_asterisco:\n",
    "    letra = input('Letra: ')\n",
    "    if letra in palabra:\n",
    "        print('¡Correcto!') \n",
    "                p_asterisco = ''.join(letra if letra == ch else p_asterisco[i] for i, ch in enumerate(palabra))\n",
    "        print(p_asterisco)\n",
    "    else:\n",
    "        vidas -= 1\n",
    "        print(f'¡Esa no está! Tienes {vidas} intentos')\n",
    "        print(p_asterisco)\n",
    "\n",
    "if vidas > 0:\n",
    "    print(\"¡Has ganado!\")\n",
    "else:\n",
    "    print(\"¡Has perdido!\")"
   ]
  },
  {
   "cell_type": "code",
   "execution_count": 2,
   "metadata": {},
   "outputs": [],
   "source": [
    "import random\n",
    "import string"
   ]
  },
  {
   "cell_type": "code",
   "execution_count": 3,
   "metadata": {},
   "outputs": [],
   "source": [
    "l_palabra = ['casa', 'perro', 'cachopo', 'dinosaurio', 'python', 'bucle', 'pesadilla', 'anaconda']\n",
    "palabra = random.choice(l_palabra)\n",
    "p_oculta = '_' * len(palabra)\n",
    "ahorcado = []\n",
    "\n",
    "vidas = 6"
   ]
  },
  {
   "cell_type": "code",
   "execution_count": 4,
   "metadata": {},
   "outputs": [
    {
     "name": "stdout",
     "output_type": "stream",
     "text": [
      "¡Correcto!\n",
      "a_a____a\n",
      "¡Correcto!\n",
      "ana__n_a\n",
      "¡Correcto!\n",
      "anac_n_a\n",
      "¡Esa no está! Tienes 5 intentos\n",
      "anac_n_a\n",
      "¡Correcto!\n",
      "anac_n_a\n",
      "¡Correcto!\n",
      "anacon_a\n",
      "¡Correcto!\n",
      "anaconda\n",
      "¡Has ganado!\n"
     ]
    }
   ],
   "source": [
    "while vidas > 0 and palabra != p_oculta:\n",
    "    \n",
    "    letra = input('Letra:').lower()\n",
    "\n",
    "    try:\n",
    "        if letra in string.ascii_lowercase:\n",
    "            if letra in palabra:\n",
    "                print('¡Correcto!')\n",
    "                p_oculta = ''.join(letra if letra == ch else p_oculta[i] for i, ch in enumerate(palabra))\n",
    "                print(p_oculta)\n",
    "            else:\n",
    "                vidas -= 1\n",
    "                print(f'¡Esa no está! Tienes {vidas} intentos')\n",
    "                print(p_oculta)\n",
    "    except:\n",
    "        print('Dato no válido')\n",
    "        print('...')\n",
    "        \n",
    "\n",
    "if vidas > 0:\n",
    "    print(\"¡Has ganado!\")\n",
    "else:\n",
    "    print(\"¡Has perdido!\")"
   ]
  },
  {
   "cell_type": "code",
   "execution_count": 1,
   "metadata": {},
   "outputs": [],
   "source": [
    "import random\n",
    "import string"
   ]
  },
  {
   "cell_type": "code",
   "execution_count": 16,
   "metadata": {},
   "outputs": [],
   "source": [
    "l_palabras = ['casa', 'perro', 'cachopo', 'dinosaurio', 'python',\n",
    "              'bucle', 'pesadilla', 'anaconda', 'lista', 'funcion',\n",
    "              'variable', 'gato', 'lapiz', 'pez', 'sol', 'clavo',\n",
    "              'pais', 'oro', 'mesa', 'vaso', 'vino', 'cuadro',\n",
    "              'elefante', 'estrella', 'universo', 'ventana', 'ordenador',\n",
    "              'quimera']\n",
    "\n",
    "palabra_secreta = random.choice(l_palabras)\n",
    "asteriscos = \"_ \" * len(palabra_secreta)\n",
    "lista_asteriscos = asteriscos.split()\n",
    "vidas = 7\n",
    "\n",
    "# este es para nosotras\n",
    "intentos = 0\n",
    "    # --- indice del ahorcado (indice = intentos -1)"
   ]
  },
  {
   "cell_type": "code",
   "execution_count": 14,
   "metadata": {},
   "outputs": [],
   "source": [
    "ahorcado =  ['''\n",
    "\n",
    "   +---+\n",
    "   |   |\n",
    "       |\n",
    "       |\n",
    "       |\n",
    "       |\n",
    "\n",
    "=========''', '''\n",
    "\n",
    "  +---+\n",
    "  |   |\n",
    "  O   |\n",
    "      |\n",
    "      |\n",
    "      |\n",
    "=========''', '''\n",
    "\n",
    "  +---+\n",
    "  |   |\n",
    "  O   |\n",
    "  |   |\n",
    "      |\n",
    "      |\n",
    "=========''', '''\n",
    "\n",
    "  +---+\n",
    "  |   |\n",
    "  O   |\n",
    " /|   |\n",
    "      |\n",
    "      |\n",
    "=========''', '''\n",
    "\n",
    "  +---+\n",
    "  |   |\n",
    "  O   |\n",
    " /|\\  |\n",
    "      |\n",
    "      |\n",
    "=========''', '''\n",
    "\n",
    "  +---+\n",
    "  |   |\n",
    "  O   |\n",
    " /|\\  |\n",
    " /    |\n",
    "      |\n",
    "=========''', '''\n",
    "\n",
    "  +---+\n",
    "  |   |\n",
    "  O   |\n",
    " /|\\  |\n",
    " / \\  |\n",
    "      |\n",
    "=========''']"
   ]
  },
  {
   "cell_type": "code",
   "execution_count": 17,
   "metadata": {},
   "outputs": [
    {
     "name": "stdout",
     "output_type": "stream",
     "text": [
      "Intenta adivinar la palabra secreta:\n",
      "_ _ _ _ \n",
      "----JUEGO----\n",
      "Lástima, has fallado. La letra 9 no se encuentra en la palabra secreta:\n",
      "_ _ _ _ \n",
      "Te quedan 6 vidas\n",
      " \n",
      "\n",
      "\n",
      "   +---+\n",
      "   |   |\n",
      "       |\n",
      "       |\n",
      "       |\n",
      "       |\n",
      "\n",
      "=========\n"
     ]
    }
   ],
   "source": [
    "print(f\"Intenta adivinar la palabra secreta:\")\n",
    "print(asteriscos)\n",
    "print('----JUEGO----')\n",
    "\n",
    "while vidas > 0 and asteriscos.replace(\" \" , \"\") != palabra_secreta:\n",
    "    existe = False # --Variable auxiliar: Determinará si la letra escogida está dentro de la palabra secreta o no\n",
    "    \n",
    "    letra = input(\"Escoge una letra para adivinar la palabra secreta\").strip().lower()\n",
    "\n",
    "    try:\n",
    "        if letra in \n",
    "        \n",
    "    for i in range(len(palabra_secreta)):\n",
    "    \n",
    "        if palabra_secreta[i] == letra:\n",
    "            lista_asteriscos[i] = letra\n",
    "            asteriscos = \" \".join(lista_asteriscos)\n",
    "            existe = True # --Al cambiar el valor de False a True de la variable auxiliar (existe), indicamos que sí ha encontrado coincidencias durante el bucle de iteraciones\n",
    "                    \n",
    "    if existe: # --Si la variable auxiliar (existe) es True, significa que hubo coincidencias con la letra escogida por la jugadora\n",
    "        print(f\"¡Enhorabuena, has acertado! La letra {letra} está en la palabra secreta.\")\n",
    "        print(asteriscos)\n",
    "        print(' ')     \n",
    "    else:\n",
    "        vidas -= 1\n",
    "        intentos += 1\n",
    "        print(f\"Lástima, has fallado. La letra {letra} no se encuentra en la palabra secreta\")\n",
    "        print(asteriscos)\n",
    "        print(f\"Te quedan {vidas} vidas\")\n",
    "        print(' ')\n",
    "        print(ahorcado[intentos-1]) \n",
    "\n",
    "if asteriscos.replace(' ', '') == palabra_secreta:\n",
    "    print('CAMPEOOOOOONES')\n",
    "else:\n",
    "    print(f'Mala suerte. ¡Perdiste! La palabra era: {palabra_secreta}')"
   ]
  },
  {
   "cell_type": "code",
   "execution_count": 7,
   "metadata": {},
   "outputs": [
    {
     "name": "stdout",
     "output_type": "stream",
     "text": [
      "\n",
      "\n",
      "  +---+\n",
      "  |   |\n",
      "  O   |\n",
      " /|\\  |\n",
      " / \\  |\n",
      "      |\n",
      "=========\n"
     ]
    }
   ],
   "source": [
    "print(ahorcado[4])"
   ]
  }
 ],
 "metadata": {
  "kernelspec": {
   "display_name": "base",
   "language": "python",
   "name": "python3"
  },
  "language_info": {
   "codemirror_mode": {
    "name": "ipython",
    "version": 3
   },
   "file_extension": ".py",
   "mimetype": "text/x-python",
   "name": "python",
   "nbconvert_exporter": "python",
   "pygments_lexer": "ipython3",
   "version": "3.9.7"
  }
 },
 "nbformat": 4,
 "nbformat_minor": 2
}
