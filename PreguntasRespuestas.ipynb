{
 "cells": [
  {
   "cell_type": "code",
   "execution_count": null,
   "metadata": {},
   "outputs": [],
   "source": [
    "import random"
   ]
  },
  {
   "cell_type": "code",
   "execution_count": null,
   "metadata": {},
   "outputs": [],
   "source": [
    "## Añadir a un input una variable con la pregunta:\n",
    "\n",
    "preguntas_respuestas = {\"¿Cual es la capital de España?\" : \"Madrid\" , \"¿Cual es la capital de Cataluña?\" : \"Barcelona\"}\n",
    "\n",
    "lista_preguntas = list(preguntas_respuestas.keys())\n",
    "\n",
    "pregunta_random = random.choice(lista_preguntas)\n",
    "\n",
    "input(pregunta_random)"
   ]
  }
 ],
 "metadata": {
  "language_info": {
   "name": "python"
  }
 },
 "nbformat": 4,
 "nbformat_minor": 2
}
