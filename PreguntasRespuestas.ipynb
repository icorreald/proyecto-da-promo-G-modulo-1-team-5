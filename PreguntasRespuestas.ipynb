{
 "cells": [
  {
   "cell_type": "code",
   "execution_count": 3,
   "metadata": {},
   "outputs": [],
   "source": [
    "import random"
   ]
  },
  {
   "cell_type": "code",
   "execution_count": 5,
   "metadata": {},
   "outputs": [
    {
     "name": "stdout",
     "output_type": "stream",
     "text": [
      "No es correcto, pero aún te quedan 3 intento(s). ¡Prueba de nuevo!\n",
      "No es correcto, pero aún te quedan 2 intento(s). ¡Prueba de nuevo!\n",
      "No es correcto, pero aún te quedan 1 intento(s). ¡Prueba de nuevo!\n",
      "Lástima, has fallado :(\n",
      "No es correcto, pero aún te quedan 3 intento(s). ¡Prueba de nuevo!\n",
      "No es correcto, pero aún te quedan 2 intento(s). ¡Prueba de nuevo!\n",
      "No es correcto, pero aún te quedan 1 intento(s). ¡Prueba de nuevo!\n",
      "Lástima, has fallado :(\n",
      "No es correcto, pero aún te quedan 3 intento(s). ¡Prueba de nuevo!\n",
      "No es correcto, pero aún te quedan 2 intento(s). ¡Prueba de nuevo!\n",
      "No es correcto, pero aún te quedan 1 intento(s). ¡Prueba de nuevo!\n",
      "Lástima, has fallado :(\n"
     ]
    }
   ],
   "source": [
    "## VARIABLES DEL JUEGO ##\n",
    "\n",
    "trivial = {\"¿Cual es la capital de España?\" : \"madrid\" , \"¿Cual es la capital de Cataluña?\" : \"barcelona\"}\n",
    "lista_preguntas = list(trivial.keys())\n",
    "aciertos = 0\n",
    "fallos = 0\n",
    "intentos = 3\n",
    "\n",
    "## LÓGICA DEL JUEGO ##\n",
    "\n",
    "while aciertos < 5 and fallos < 3:\n",
    "   \n",
    "    ## CONDICIONALES ##\n",
    "\n",
    "    if intentos > 0:\n",
    "        if intentos == 3:\n",
    "            pregunta_random = random.choice(lista_preguntas) \n",
    "            # Mantiene la misma pregunta durante los 3 intentos para acertarla\n",
    "        \n",
    "        respuesta = input(pregunta_random).lower().strip()\n",
    "        # Solicita la respuesta de la jugadora\n",
    "\n",
    "        if trivial.get(pregunta_random) == respuesta:\n",
    "            aciertos += 1\n",
    "            intentos = 3\n",
    "            print(f\"¡Enhorabuena, has acertado!\")\n",
    "            print(f\"-- Llevas {aciertos} acierto(s) y {fallos} fallo(s) --\")\n",
    "            # Si la respuesta es correcta, da un punto y pasa a la siguiente pregunta. También se restablece el número de intentos para la siguiente ronda\n",
    "        \n",
    "        else: \n",
    "            intentos -= 1\n",
    "            print(f\"No es correcto, pero aún te quedan {intentos} intento(s). ¡Prueba de nuevo!\")\n",
    "            # Si la respuesta es errónea, pero aún quedan intentos, vuelve a solicitar respuesta a la jugadora. Cada respuesta errónea resta 1 intento\n",
    "\n",
    "    else:\n",
    "        fallos += 1\n",
    "        intentos = 3\n",
    "        print(f\"Lástima, has fallado esta pregunta :(\")\n",
    "        print(f\"-- Llevas {aciertos} acierto(s) y {fallos} fallo(s) --\")\n",
    "        # Si la jugadora ha agotado sus intentos y no ha acertado la pregunta, cuenta un fallo y pasa a la siguiente pregunta. También se restablece el número de intentos para la siguiente ronda    "
   ]
  }
 ],
 "metadata": {
  "kernelspec": {
   "display_name": "base",
   "language": "python",
   "name": "python3"
  },
  "language_info": {
   "codemirror_mode": {
    "name": "ipython",
    "version": 3
   },
   "file_extension": ".py",
   "mimetype": "text/x-python",
   "name": "python",
   "nbconvert_exporter": "python",
   "pygments_lexer": "ipython3",
   "version": "3.9.7"
  }
 },
 "nbformat": 4,
 "nbformat_minor": 2
}
