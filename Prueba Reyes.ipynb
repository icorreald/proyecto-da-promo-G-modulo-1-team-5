{
 "cells": [
  {
   "cell_type": "code",
   "execution_count": null,
   "metadata": {},
   "outputs": [],
   "source": [
    "Hola, chicas. Esto es una prueba para ver si me funciona GitHub."
   ]
  },
  {
   "cell_type": "code",
   "execution_count": null,
   "metadata": {},
   "outputs": [],
   "source": [
    "#Aquí van las preguntas de Geografía\n",
    "\n",
    "{“¿Cuál es la capital de Qatar?” : “Doha” , \"¿Cuál es el país más grande del mundo?\" : “Rusia”, “¿Cuál es la montaña más alta del mundo?” : “Everest”, “¿Cuántos estados hay en Estados Unidos?” : “50”, “¿Cuántos países forman parte de la Unión Europea?” : “27”, “¿Cuál es el continente más poblado?” : “Asia”, “¿Cuál es el idioma oficial de Andorra?” : “Catalán”, “¿Cuál es el país menos densamente poblado del mundo?” : “Mongolia”, “¿En qué océano desemboca el río Amazonas?” : “Atlántico”, “¿Qué país africano tiene como capital Nairobi?” : “Kenia”}"
   ]
  }
 ],
 "metadata": {
  "language_info": {
   "name": "python"
  }
 },
 "nbformat": 4,
 "nbformat_minor": 2
}
